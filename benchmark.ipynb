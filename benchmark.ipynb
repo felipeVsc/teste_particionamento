{
 "cells": [
  {
   "cell_type": "markdown",
   "metadata": {},
   "source": [
    "# TODO:\n",
    "\n",
    "* Transformar os dados em um único schema\n",
    "* Manter dois repos separados para teste\n",
    "* 1 - Testar apenas o particionamento de data\n",
    "* 2 - Testar o particionamento de hora\n",
    "* 3 - Testar o particionamento de id_onibus\n",
    "* 4 - Testar o particionamento de cidade\n",
    "* 5 - Testar o z-ordering nas mesmas colunas acima\n",
    "* 6 - Testar primeiro particionar e depois dar um z-ordering nos dados\n",
    "\n",
    "## Preparação:\n",
    "\n",
    "Definir quais podem ser as principais queries\n",
    "\n",
    "\n",
    "## Resultados:\n",
    "\n",
    "Tempo para cada um dos z-ordering, visualizando qual o menor tempo\n",
    "\n",
    "## Finalização\n",
    "\n",
    "Transferir tudo para o Databricks"
   ]
  }
 ],
 "metadata": {
  "language_info": {
   "name": "python"
  }
 },
 "nbformat": 4,
 "nbformat_minor": 2
}
