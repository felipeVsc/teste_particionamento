{
 "cells": [
  {
   "cell_type": "code",
   "execution_count": 5,
   "metadata": {},
   "outputs": [
    {
     "name": "stdout",
     "output_type": "stream",
     "text": [
      "sp\n",
      "Total Arquivos: 19595\n",
      "df\n",
      "Total Arquivos: 20016\n",
      "cwb\n",
      "Total Arquivos: 18020\n",
      "rj\n",
      "Total Arquivos: 20096\n"
     ]
    }
   ],
   "source": [
    "import os\n",
    "from datetime import datetime\n",
    "\n",
    "# diretorio = \"/home/felipe/code/teste_particionamento/dados/sp_micro\"\n",
    "for city in [\"sp\",\"df\",\"cwb\",\"rj\"]:\n",
    "    print(city)\n",
    "    diretorio = f\"/home/felipe/coleta2/{city}/\"\n",
    "    arquivos = os.listdir(diretorio)\n",
    "    arquivos_sorted = sorted(arquivos, key=lambda x: int(x[:10]))\n",
    "    print(f\"Total Arquivos: {len(arquivos_sorted)}\")\n",
    "    for i in range(1, len(arquivos_sorted)):\n",
    "        arquivo_atual = arquivos_sorted[i][:10]\n",
    "        timestamp_atual = datetime.fromtimestamp(int(arquivo_atual))\n",
    "        with open(f\"./coleta2_timestamps/{city}.txt\", \"a\") as arquivo:\n",
    "            arquivo.write(f\"{timestamp_atual}\\n\")\n",
    "\n"
   ]
  },
  {
   "cell_type": "code",
   "execution_count": 4,
   "metadata": {},
   "outputs": [
    {
     "name": "stdout",
     "output_type": "stream",
     "text": [
      "sp\n",
      "Total Arquivos: 18258\n",
      "df\n",
      "Total Arquivos: 17542\n",
      "cwb\n",
      "Total Arquivos: 18774\n",
      "rj\n",
      "Total Arquivos: 18570\n"
     ]
    }
   ],
   "source": [
    "import os\n",
    "from datetime import datetime\n",
    "\n",
    "# diretorio = \"/home/felipe/code/teste_particionamento/dados/sp_micro\"\n",
    "for city in [\"sp\",\"df\",\"cwb\",\"rj\"]:\n",
    "    print(city)\n",
    "    diretorio = f\"/home/felipe/dados_vm/{city}/\"\n",
    "    arquivos = os.listdir(diretorio)\n",
    "    arquivos_sorted = sorted(arquivos, key=lambda x: int(x[:10]))\n",
    "    print(f\"Total Arquivos: {len(arquivos_sorted)}\")\n",
    "    for i in range(1, len(arquivos_sorted)):\n",
    "        arquivo_atual = arquivos_sorted[i][:10]\n",
    "        timestamp_atual = datetime.fromtimestamp(int(arquivo_atual))\n",
    "        with open(f\"./coleta1_timestamps/{city}.txt\", \"a\") as arquivo:\n",
    "            arquivo.write(f\"{timestamp_atual}\\n\")\n",
    "\n"
   ]
  }
 ],
 "metadata": {
  "kernelspec": {
   "display_name": "Python 3",
   "language": "python",
   "name": "python3"
  },
  "language_info": {
   "codemirror_mode": {
    "name": "ipython",
    "version": 3
   },
   "file_extension": ".py",
   "mimetype": "text/x-python",
   "name": "python",
   "nbconvert_exporter": "python",
   "pygments_lexer": "ipython3",
   "version": "3.11.4"
  }
 },
 "nbformat": 4,
 "nbformat_minor": 2
}
