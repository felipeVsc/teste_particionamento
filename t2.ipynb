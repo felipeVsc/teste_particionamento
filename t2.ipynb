{
 "cells": [
  {
   "cell_type": "code",
   "execution_count": 3,
   "metadata": {},
   "outputs": [
    {
     "name": "stderr",
     "output_type": "stream",
     "text": [
      "                                                                                \r"
     ]
    },
    {
     "name": "stdout",
     "output_type": "stream",
     "text": [
      "+-------------------+-------------------+--------------------+---------+-------+--------------------+----------------+\n",
      "|           latitude|          longitude|       tempo_captura|id_onibus|      c|                 lt0|             lt1|\n",
      "+-------------------+-------------------+--------------------+---------+-------+--------------------+----------------+\n",
      "|        -23.6132505|-46.476259999999996|2024-02-13T22:51:58Z|    41511|2290-10|TERM. PQ. D. PEDR...|TERM. SÃO MATEUS|\n",
      "|      -23.602433875|      -46.482662375|2024-02-13T22:52:06Z|    41578|2290-10|TERM. PQ. D. PEDR...|TERM. SÃO MATEUS|\n",
      "|      -23.535688375|       -46.58498425|2024-02-13T22:51:44Z|    41533|2290-10|TERM. PQ. D. PEDR...|TERM. SÃO MATEUS|\n",
      "|       -23.54760875|         -46.539715|2024-02-13T22:51:54Z|    41522|2290-10|TERM. PQ. D. PEDR...|TERM. SÃO MATEUS|\n",
      "|         -23.535013|-46.578495000000004|2024-02-13T22:52:06Z|    41558|2290-10|TERM. PQ. D. PEDR...|TERM. SÃO MATEUS|\n",
      "|         -23.613456|-46.476318500000005|2024-02-13T22:51:42Z|    41575|2290-10|TERM. PQ. D. PEDR...|TERM. SÃO MATEUS|\n",
      "|       -23.60428225|       -46.48109225|2024-02-13T22:51:53Z|    41557|2290-10|TERM. PQ. D. PEDR...|TERM. SÃO MATEUS|\n",
      "|        -23.6132505|-46.476259999999996|2024-02-13T22:52:01Z|    41567|2290-10|TERM. PQ. D. PEDR...|TERM. SÃO MATEUS|\n",
      "|-23.582751000000002|         -46.496638|2024-02-13T22:52:06Z|    41549|2290-10|TERM. PQ. D. PEDR...|TERM. SÃO MATEUS|\n",
      "|        -23.5459115|         -46.621572|2024-02-13T22:51:56Z|    41512|2290-10|TERM. PQ. D. PEDR...|TERM. SÃO MATEUS|\n",
      "|         -23.557597|         -46.523596|2024-02-13T22:51:46Z|    41505|2290-10|TERM. PQ. D. PEDR...|TERM. SÃO MATEUS|\n",
      "|        -23.6136555|-46.476372999999995|2024-02-13T22:51:58Z|    41571|2290-10|TERM. PQ. D. PEDR...|TERM. SÃO MATEUS|\n",
      "|         -23.463069|        -46.6814145|2024-02-13T22:51:31Z|    16178|938P-10|   METRÔ BARRA FUNDA|      JD. TEREZA|\n",
      "|          -23.48489|         -46.687429|2024-02-13T22:51:37Z|    16128|938P-10|   METRÔ BARRA FUNDA|      JD. TEREZA|\n",
      "|         -23.490866|-46.688945000000004|2024-02-13T22:51:38Z|    16373|938P-10|   METRÔ BARRA FUNDA|      JD. TEREZA|\n",
      "|        -23.4637945|-46.682139500000005|2024-02-13T22:51:43Z|    16716|938P-10|   METRÔ BARRA FUNDA|      JD. TEREZA|\n",
      "|-23.462593499999997|        -46.6814735|2024-02-13T22:52:11Z|    16090|938P-10|   METRÔ BARRA FUNDA|      JD. TEREZA|\n",
      "|-23.522807999999998|        -46.6986065|2024-02-13T22:51:31Z|    16786|938P-10|   METRÔ BARRA FUNDA|      JD. TEREZA|\n",
      "|         -23.417408|       -46.78230525|2024-02-13T22:51:10Z|    11686|8055-10|                LAPA|           PERUS|\n",
      "|         -23.408328|         -46.741003|2024-02-13T22:51:30Z|    11691|8055-10|                LAPA|           PERUS|\n",
      "+-------------------+-------------------+--------------------+---------+-------+--------------------+----------------+\n",
      "only showing top 20 rows\n",
      "\n"
     ]
    }
   ],
   "source": [
    "from pyspark.sql import *\n",
    "from delta import *\n",
    "from pyspark.sql.functions import split, to_date, hour, minute, second, col\n",
    "\n",
    "\n",
    "builder = SparkSession.builder.appName(\"topicos\").config(\"spark.sql.extensions\",\"io.delta.sql.DeltaSparkSessionExtension\").config(\"spark.sql.catalog.spark_catalog\",\"org.apache.spark.sql.delta.catalog.DeltaCatalog\")\n",
    "spark = configure_spark_with_delta_pip(builder).getOrCreate()\n",
    "\n",
    "INPUT_PATH = \"/home/felipe/code/teste_particionamento/dados/\"\n",
    "BRONZE_PATH = \"/home/felipe/code/teste_particionamento/lake/bronze\"\n",
    "SILVER_PATH = \"/home/felipe/code/teste_particionamento/lake/silver\"\n",
    "\n",
    "df = spark.read.format(\"parquet\").load(f\"/home/felipe/code/teste_particionamento/dados/sp_micro/1707864735.25832.parquet\")\n",
    "df.show()\n",
    "\n",
    "\n",
    "\n",
    "spark.stop()"
   ]
  }
 ],
 "metadata": {
  "kernelspec": {
   "display_name": "Python 3",
   "language": "python",
   "name": "python3"
  },
  "language_info": {
   "codemirror_mode": {
    "name": "ipython",
    "version": 3
   },
   "file_extension": ".py",
   "mimetype": "text/x-python",
   "name": "python",
   "nbconvert_exporter": "python",
   "pygments_lexer": "ipython3",
   "version": "3.11.4"
  }
 },
 "nbformat": 4,
 "nbformat_minor": 2
}
